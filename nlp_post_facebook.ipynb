{
  "nbformat": 4,
  "nbformat_minor": 0,
  "metadata": {
    "colab": {
      "name": "nlp_post_facebook_before_stopwards.ipynb",
      "provenance": [],
      "collapsed_sections": [],
      "machine_shape": "hm"
    },
    "kernelspec": {
      "name": "python3",
      "display_name": "Python 3"
    },
    "accelerator": "TPU"
  },
  "cells": [
    {
      "cell_type": "code",
      "metadata": {
        "id": "lsYh2_Dqdv9a",
        "colab_type": "code",
        "colab": {}
      },
      "source": [
        ""
      ],
      "execution_count": null,
      "outputs": []
    },
    {
      "cell_type": "code",
      "metadata": {
        "id": "sSumobRDdyJU",
        "colab_type": "code",
        "colab": {}
      },
      "source": [
        ""
      ],
      "execution_count": null,
      "outputs": []
    },
    {
      "cell_type": "code",
      "metadata": {
        "id": "y1wYgZ5JMK7O",
        "colab_type": "code",
        "colab": {
          "base_uri": "https://localhost:8080/",
          "height": 104
        },
        "outputId": "4e8b0ae7-62b5-4f78-a209-1bff80563a28"
      },
      "source": [
        "from google.colab import drive\n",
        "drive.mount('/content/drive')\n",
        "\n",
        "#path of tewst file \n",
        "#/content/drive/My Drive/Colab Notebooks/nlp/manula_test - Sheet1.csv "
      ],
      "execution_count": null,
      "outputs": [
        {
          "output_type": "stream",
          "text": [
            "Go to this URL in a browser: https://accounts.google.com/o/oauth2/auth?client_id=947318989803-6bn6qk8qdgf4n4g3pfee6491hc0brc4i.apps.googleusercontent.com&redirect_uri=urn%3aietf%3awg%3aoauth%3a2.0%3aoob&response_type=code&scope=email%20https%3a%2f%2fwww.googleapis.com%2fauth%2fdocs.test%20https%3a%2f%2fwww.googleapis.com%2fauth%2fdrive%20https%3a%2f%2fwww.googleapis.com%2fauth%2fdrive.photos.readonly%20https%3a%2f%2fwww.googleapis.com%2fauth%2fpeopleapi.readonly\n",
            "\n",
            "Enter your authorization code:\n",
            "··········\n"
          ],
          "name": "stdout"
        }
      ]
    },
    {
      "cell_type": "code",
      "metadata": {
        "id": "N5hHWKba57ef",
        "colab_type": "code",
        "colab": {}
      },
      "source": [
        "import pandas as pd\n"
      ],
      "execution_count": null,
      "outputs": []
    },
    {
      "cell_type": "code",
      "metadata": {
        "id": "XanuYwtM7Q0j",
        "colab_type": "code",
        "colab": {}
      },
      "source": [
        "\n",
        "path = '/content/drive/My Drive/Colab Notebooks/nlp/new facebook /Ahmed Omar Arabic tc dataset.xlsx'\n",
        "#file = codecs.open('C:\\\\Users\\\\Target\\\\Desktop\\\\arabic_dataset_classifiction.csv',encoding=\"utf-8\")    \n",
        "#file = open(path, 'r', encoding='iso-8859-1')\n",
        "\n",
        "#file = codecs.open('/content/drive/My Drive/facebbok /database/data.txt',encoding=\"utf-8\")    \n",
        "# Dataset available using filepath 'smsspamcollection/SMSSpamCollection'\n",
        "df = pd.read_excel(path, header=None,names=['post', 'type'])\n",
        "\n",
        "\n",
        "# Output printing out first 5 rows\n",
        "df"
      ],
      "execution_count": null,
      "outputs": []
    },
    {
      "cell_type": "code",
      "metadata": {
        "id": "GCGDoD2EB_JN",
        "colab_type": "code",
        "colab": {
          "base_uri": "https://localhost:8080/",
          "height": 54
        },
        "outputId": "cf824927-b6ef-4480-a348-e32271c649f9"
      },
      "source": [
        "df['post'][12]"
      ],
      "execution_count": null,
      "outputs": [
        {
          "output_type": "execute_result",
          "data": {
            "text/plain": [
              "'  شركة جنى للاستثمار العقارى  محتاج تعيش فى مكان هادى ومايكونش صحراء ولامهجور😉😉  👈متقلقش 👉دلوقتى بكل سهوله تقدر تسكن وتعيش فى الهدوء اللى بتحلم بيه 😀😀 وسط مساحات خضراء وبأسعار خارج المنافسه 😃😃😃  بمدينة المنيا بمنطقه مدخل الاذاعه والتليفزيون امام مجمع ملاعب التنس شقق بمساحات متر و متر والتقسيط على سنوات بدووون فواااائد   للإستفسار والإستعلام عن مكان الوحدات يرجى الإتصال على موبايل:   '"
            ]
          },
          "metadata": {
            "tags": []
          },
          "execution_count": 5
        }
      ]
    },
    {
      "cell_type": "code",
      "metadata": {
        "id": "KK0HOJqXFvVX",
        "colab_type": "code",
        "colab": {}
      },
      "source": [
        "temp = df "
      ],
      "execution_count": null,
      "outputs": []
    },
    {
      "cell_type": "code",
      "metadata": {
        "id": "G4rtq_p_Fa3h",
        "colab_type": "code",
        "colab": {
          "base_uri": "https://localhost:8080/",
          "height": 402
        },
        "outputId": "5f12c9cf-a949-456d-9a67-c5465e355c3d"
      },
      "source": [
        "#doing label encoding wich is diffirent than one hot encoding \n",
        "from sklearn.preprocessing import LabelEncoder\n",
        "labelencoder = LabelEncoder()\n",
        "df['type'] = labelencoder.fit_transform(df['type'] )\n",
        "df"
      ],
      "execution_count": null,
      "outputs": [
        {
          "output_type": "execute_result",
          "data": {
            "text/html": [
              "<div>\n",
              "<style scoped>\n",
              "    .dataframe tbody tr th:only-of-type {\n",
              "        vertical-align: middle;\n",
              "    }\n",
              "\n",
              "    .dataframe tbody tr th {\n",
              "        vertical-align: top;\n",
              "    }\n",
              "\n",
              "    .dataframe thead th {\n",
              "        text-align: right;\n",
              "    }\n",
              "</style>\n",
              "<table border=\"1\" class=\"dataframe\">\n",
              "  <thead>\n",
              "    <tr style=\"text-align: right;\">\n",
              "      <th></th>\n",
              "      <th>post</th>\n",
              "      <th>type</th>\n",
              "    </tr>\n",
              "  </thead>\n",
              "  <tbody>\n",
              "    <tr>\n",
              "      <th>0</th>\n",
              "      <td>-  -  -    +  vacancy@primeexpresseg.com ...</td>\n",
              "      <td>1</td>\n",
              "    </tr>\n",
              "    <tr>\n",
              "      <th>1</th>\n",
              "      <td>+    cvhrjob@gmail.com وكالة دعاية وإعل...</td>\n",
              "      <td>1</td>\n",
              "    </tr>\n",
              "    <tr>\n",
              "      <th>2</th>\n",
              "      <td>:- , , , , , , .  - : &amp;  -  melsemary@hmgegy...</td>\n",
              "      <td>1</td>\n",
              "    </tr>\n",
              "    <tr>\n",
              "      <th>3</th>\n",
              "      <td>s.amir@almoltaqa.com.eg  -  مهندسين ميكانيكا...</td>\n",
              "      <td>1</td>\n",
              "    </tr>\n",
              "    <tr>\n",
              "      <th>4</th>\n",
              "      <td>- مطلوب على وجه مهندس مبيعات للعمل بالشركة ال...</td>\n",
              "      <td>1</td>\n",
              "    </tr>\n",
              "    <tr>\n",
              "      <th>...</th>\n",
              "      <td>...</td>\n",
              "      <td>...</td>\n",
              "    </tr>\n",
              "    <tr>\n",
              "      <th>24990</th>\n",
              "      <td>يواصل الإعلامي عماد الدين أديب فى حلقة اليوم م...</td>\n",
              "      <td>9</td>\n",
              "    </tr>\n",
              "    <tr>\n",
              "      <th>24991</th>\n",
              "      <td>يواصل العرض الحصري على أفلام .. ذيب يقتنص جوائ...</td>\n",
              "      <td>9</td>\n",
              "    </tr>\n",
              "    <tr>\n",
              "      <th>24992</th>\n",
              "      <td>يوسف الشريف يطرح أول بوستر لـ«كفر دلهاب»</td>\n",
              "      <td>9</td>\n",
              "    </tr>\n",
              "    <tr>\n",
              "      <th>24993</th>\n",
              "      <td>يوم من عمري احتفالا بالذكرى الـ للعندليب الأسم...</td>\n",
              "      <td>9</td>\n",
              "    </tr>\n",
              "    <tr>\n",
              "      <th>24994</th>\n",
              "      <td>يوم واحد يفصلنا عن الكوميديا والضحك مع نجم  مس...</td>\n",
              "      <td>9</td>\n",
              "    </tr>\n",
              "  </tbody>\n",
              "</table>\n",
              "<p>24995 rows × 2 columns</p>\n",
              "</div>"
            ],
            "text/plain": [
              "                                                    post  type\n",
              "0           -  -  -    +  vacancy@primeexpresseg.com ...     1\n",
              "1             +    cvhrjob@gmail.com وكالة دعاية وإعل...     1\n",
              "2        :- , , , , , , .  - : &  -  melsemary@hmgegy...     1\n",
              "3        s.amir@almoltaqa.com.eg  -  مهندسين ميكانيكا...     1\n",
              "4       - مطلوب على وجه مهندس مبيعات للعمل بالشركة ال...     1\n",
              "...                                                  ...   ...\n",
              "24990  يواصل الإعلامي عماد الدين أديب فى حلقة اليوم م...     9\n",
              "24991  يواصل العرض الحصري على أفلام .. ذيب يقتنص جوائ...     9\n",
              "24992       يوسف الشريف يطرح أول بوستر لـ«كفر دلهاب»         9\n",
              "24993  يوم من عمري احتفالا بالذكرى الـ للعندليب الأسم...     9\n",
              "24994  يوم واحد يفصلنا عن الكوميديا والضحك مع نجم  مس...     9\n",
              "\n",
              "[24995 rows x 2 columns]"
            ]
          },
          "metadata": {
            "tags": []
          },
          "execution_count": 7
        }
      ]
    },
    {
      "cell_type": "code",
      "metadata": {
        "id": "D8KxemzB6Als",
        "colab_type": "code",
        "colab": {}
      },
      "source": [
        "from sklearn.feature_extraction.text import CountVectorizer\n",
        "\n",
        "from sklearn.model_selection import train_test_split"
      ],
      "execution_count": null,
      "outputs": []
    },
    {
      "cell_type": "code",
      "metadata": {
        "id": "_G1rBeiw8LBM",
        "colab_type": "code",
        "colab": {
          "base_uri": "https://localhost:8080/",
          "height": 67
        },
        "outputId": "3be4a193-c695-4781-f876-904e977ec2ba"
      },
      "source": [
        "# randome state of 1 get accuracy of 96 \n",
        "#changing it to 32      nearly same \n",
        "\n",
        "X_train, X_test, y_train, y_test = train_test_split(df['post'], \n",
        "                                                    df['type'], \n",
        "                                                    random_state=32)\n",
        "\n",
        "print('Number of rows in the total set: {}'.format(df.shape[0]))\n",
        "print('Number of rows in the training set: {}'.format(X_train.shape[0]))\n",
        "print('Number of rows in the test set: {}'.format(X_test.shape[0]))"
      ],
      "execution_count": null,
      "outputs": [
        {
          "output_type": "stream",
          "text": [
            "Number of rows in the total set: 24995\n",
            "Number of rows in the training set: 18746\n",
            "Number of rows in the test set: 6249\n"
          ],
          "name": "stdout"
        }
      ]
    },
    {
      "cell_type": "code",
      "metadata": {
        "id": "8t7AYfm0SaBp",
        "colab_type": "code",
        "colab": {
          "base_uri": "https://localhost:8080/",
          "height": 118
        },
        "outputId": "f423297b-a45f-4855-ec4b-b79e55cc988d"
      },
      "source": [
        "X_test[0:5]"
      ],
      "execution_count": null,
      "outputs": [
        {
          "output_type": "execute_result",
          "data": {
            "text/plain": [
              "11627           زاخاروفا: أين ردودكم على احتجاجات فرنسا؟  \n",
              "16045     اللهم سق إلى أحبتي في هذا اليوم    من رحماتك ...\n",
              "7944      سؤال الزائر : اعانى من وجود فطريات بين اصبع ا...\n",
              "16039     اللهم زوج من اراد الستر اللهم زوج بنات المسلم...\n",
              "20495     اقترح عالم من وكالة الفضاء الأميركية (ناسا) و...\n",
              "Name: post, dtype: object"
            ]
          },
          "metadata": {
            "tags": []
          },
          "execution_count": 10
        }
      ]
    },
    {
      "cell_type": "code",
      "metadata": {
        "id": "_dc38nfN_EGO",
        "colab_type": "code",
        "colab": {
          "base_uri": "https://localhost:8080/",
          "height": 50
        },
        "outputId": "b4cefc31-ac90-400b-82c4-5ea82d4f6fcf"
      },
      "source": [
        "import nltk\n",
        "nltk.download('stopwords')\n",
        "from nltk.corpus import stopwords\n"
      ],
      "execution_count": null,
      "outputs": [
        {
          "output_type": "stream",
          "text": [
            "[nltk_data] Downloading package stopwords to /root/nltk_data...\n",
            "[nltk_data]   Unzipping corpora/stopwords.zip.\n"
          ],
          "name": "stdout"
        }
      ]
    },
    {
      "cell_type": "code",
      "metadata": {
        "id": "E5o3QnfHL5ZS",
        "colab_type": "code",
        "colab": {
          "base_uri": "https://localhost:8080/",
          "height": 54
        },
        "outputId": "aa215dad-5e35-46d1-d53c-37fa04add04a"
      },
      "source": [
        "stopwords_list = stopwords.words('arabic')\n",
        "print(stopwords_list)"
      ],
      "execution_count": null,
      "outputs": [
        {
          "output_type": "stream",
          "text": [
            "['إذ', 'إذا', 'إذما', 'إذن', 'أف', 'أقل', 'أكثر', 'ألا', 'إلا', 'التي', 'الذي', 'الذين', 'اللاتي', 'اللائي', 'اللتان', 'اللتيا', 'اللتين', 'اللذان', 'اللذين', 'اللواتي', 'إلى', 'إليك', 'إليكم', 'إليكما', 'إليكن', 'أم', 'أما', 'أما', 'إما', 'أن', 'إن', 'إنا', 'أنا', 'أنت', 'أنتم', 'أنتما', 'أنتن', 'إنما', 'إنه', 'أنى', 'أنى', 'آه', 'آها', 'أو', 'أولاء', 'أولئك', 'أوه', 'آي', 'أي', 'أيها', 'إي', 'أين', 'أين', 'أينما', 'إيه', 'بخ', 'بس', 'بعد', 'بعض', 'بك', 'بكم', 'بكم', 'بكما', 'بكن', 'بل', 'بلى', 'بما', 'بماذا', 'بمن', 'بنا', 'به', 'بها', 'بهم', 'بهما', 'بهن', 'بي', 'بين', 'بيد', 'تلك', 'تلكم', 'تلكما', 'ته', 'تي', 'تين', 'تينك', 'ثم', 'ثمة', 'حاشا', 'حبذا', 'حتى', 'حيث', 'حيثما', 'حين', 'خلا', 'دون', 'ذا', 'ذات', 'ذاك', 'ذان', 'ذانك', 'ذلك', 'ذلكم', 'ذلكما', 'ذلكن', 'ذه', 'ذو', 'ذوا', 'ذواتا', 'ذواتي', 'ذي', 'ذين', 'ذينك', 'ريث', 'سوف', 'سوى', 'شتان', 'عدا', 'عسى', 'عل', 'على', 'عليك', 'عليه', 'عما', 'عن', 'عند', 'غير', 'فإذا', 'فإن', 'فلا', 'فمن', 'في', 'فيم', 'فيما', 'فيه', 'فيها', 'قد', 'كأن', 'كأنما', 'كأي', 'كأين', 'كذا', 'كذلك', 'كل', 'كلا', 'كلاهما', 'كلتا', 'كلما', 'كليكما', 'كليهما', 'كم', 'كم', 'كما', 'كي', 'كيت', 'كيف', 'كيفما', 'لا', 'لاسيما', 'لدى', 'لست', 'لستم', 'لستما', 'لستن', 'لسن', 'لسنا', 'لعل', 'لك', 'لكم', 'لكما', 'لكن', 'لكنما', 'لكي', 'لكيلا', 'لم', 'لما', 'لن', 'لنا', 'له', 'لها', 'لهم', 'لهما', 'لهن', 'لو', 'لولا', 'لوما', 'لي', 'لئن', 'ليت', 'ليس', 'ليسا', 'ليست', 'ليستا', 'ليسوا', 'ما', 'ماذا', 'متى', 'مذ', 'مع', 'مما', 'ممن', 'من', 'منه', 'منها', 'منذ', 'مه', 'مهما', 'نحن', 'نحو', 'نعم', 'ها', 'هاتان', 'هاته', 'هاتي', 'هاتين', 'هاك', 'هاهنا', 'هذا', 'هذان', 'هذه', 'هذي', 'هذين', 'هكذا', 'هل', 'هلا', 'هم', 'هما', 'هن', 'هنا', 'هناك', 'هنالك', 'هو', 'هؤلاء', 'هي', 'هيا', 'هيت', 'هيهات', 'والذي', 'والذين', 'وإذ', 'وإذا', 'وإن', 'ولا', 'ولكن', 'ولو', 'وما', 'ومن', 'وهو', 'يا']\n"
          ],
          "name": "stdout"
        }
      ]
    },
    {
      "cell_type": "code",
      "metadata": {
        "id": "HorIoTgpLkZr",
        "colab_type": "code",
        "colab": {
          "base_uri": "https://localhost:8080/",
          "height": 54
        },
        "outputId": "c36d3030-5e70-48c8-a5ef-d9b918612fce"
      },
      "source": [
        "print(stopwords_list)"
      ],
      "execution_count": null,
      "outputs": [
        {
          "output_type": "stream",
          "text": [
            "['إذ', 'إذا', 'إذما', 'إذن', 'أف', 'أقل', 'أكثر', 'ألا', 'إلا', 'التي', 'الذي', 'الذين', 'اللاتي', 'اللائي', 'اللتان', 'اللتيا', 'اللتين', 'اللذان', 'اللذين', 'اللواتي', 'إلى', 'إليك', 'إليكم', 'إليكما', 'إليكن', 'أم', 'أما', 'أما', 'إما', 'أن', 'إن', 'إنا', 'أنا', 'أنت', 'أنتم', 'أنتما', 'أنتن', 'إنما', 'إنه', 'أنى', 'أنى', 'آه', 'آها', 'أو', 'أولاء', 'أولئك', 'أوه', 'آي', 'أي', 'أيها', 'إي', 'أين', 'أين', 'أينما', 'إيه', 'بخ', 'بس', 'بعد', 'بعض', 'بك', 'بكم', 'بكم', 'بكما', 'بكن', 'بل', 'بلى', 'بما', 'بماذا', 'بمن', 'بنا', 'به', 'بها', 'بهم', 'بهما', 'بهن', 'بي', 'بين', 'بيد', 'تلك', 'تلكم', 'تلكما', 'ته', 'تي', 'تين', 'تينك', 'ثم', 'ثمة', 'حاشا', 'حبذا', 'حتى', 'حيث', 'حيثما', 'حين', 'خلا', 'دون', 'ذا', 'ذات', 'ذاك', 'ذان', 'ذانك', 'ذلك', 'ذلكم', 'ذلكما', 'ذلكن', 'ذه', 'ذو', 'ذوا', 'ذواتا', 'ذواتي', 'ذي', 'ذين', 'ذينك', 'ريث', 'سوف', 'سوى', 'شتان', 'عدا', 'عسى', 'عل', 'على', 'عليك', 'عليه', 'عما', 'عن', 'عند', 'غير', 'فإذا', 'فإن', 'فلا', 'فمن', 'في', 'فيم', 'فيما', 'فيه', 'فيها', 'قد', 'كأن', 'كأنما', 'كأي', 'كأين', 'كذا', 'كذلك', 'كل', 'كلا', 'كلاهما', 'كلتا', 'كلما', 'كليكما', 'كليهما', 'كم', 'كم', 'كما', 'كي', 'كيت', 'كيف', 'كيفما', 'لا', 'لاسيما', 'لدى', 'لست', 'لستم', 'لستما', 'لستن', 'لسن', 'لسنا', 'لعل', 'لك', 'لكم', 'لكما', 'لكن', 'لكنما', 'لكي', 'لكيلا', 'لم', 'لما', 'لن', 'لنا', 'له', 'لها', 'لهم', 'لهما', 'لهن', 'لو', 'لولا', 'لوما', 'لي', 'لئن', 'ليت', 'ليس', 'ليسا', 'ليست', 'ليستا', 'ليسوا', 'ما', 'ماذا', 'متى', 'مذ', 'مع', 'مما', 'ممن', 'من', 'منه', 'منها', 'منذ', 'مه', 'مهما', 'نحن', 'نحو', 'نعم', 'ها', 'هاتان', 'هاته', 'هاتي', 'هاتين', 'هاك', 'هاهنا', 'هذا', 'هذان', 'هذه', 'هذي', 'هذين', 'هكذا', 'هل', 'هلا', 'هم', 'هما', 'هن', 'هنا', 'هناك', 'هنالك', 'هو', 'هؤلاء', 'هي', 'هيا', 'هيت', 'هيهات', 'والذي', 'والذين', 'وإذ', 'وإذا', 'وإن', 'ولا', 'ولكن', 'ولو', 'وما', 'ومن', 'وهو', 'يا']\n"
          ],
          "name": "stdout"
        }
      ]
    },
    {
      "cell_type": "code",
      "metadata": {
        "id": "noFaaflQ6Efe",
        "colab_type": "code",
        "colab": {}
      },
      "source": [
        "#stop_words= None, lowercase = False\n",
        "# Fit the training data and then return the matrix\n",
        "\n",
        "count_vector = CountVectorizer(stop_words=stopwords_list )\n"
      ],
      "execution_count": null,
      "outputs": []
    },
    {
      "cell_type": "code",
      "metadata": {
        "id": "uxRY5UR1c9_0",
        "colab_type": "code",
        "colab": {}
      },
      "source": [
        "training_data = count_vector.fit_transform(X_train.values.astype('U'))\n"
      ],
      "execution_count": null,
      "outputs": []
    },
    {
      "cell_type": "code",
      "metadata": {
        "id": "QOyg1GCG9JWI",
        "colab_type": "code",
        "colab": {}
      },
      "source": [
        "\n",
        "#TfidfVectorizer in scikit-learn : ValueError: np.nan is an invalid document\n",
        "#https://stackoverflow.com/questions/39303912/tfidfvectorizer-in-scikit-learn-valueerror-np-nan-is-an-invalid-document\n",
        "X_train=X_train.values.astype('U')\n",
        "\n",
        "\n",
        "#ravel problem \n",
        "#https://stackoverflow.com/questions/26367075/countvectorizer-attributeerror-numpy-ndarray-object-has-no-attribute-lower \n",
        "# i did it also when i was calling load model \n",
        "training_data = count_vector.fit_transform(X_train.ravel())\n",
        "\n",
        "# Transform testing data and return the matrix. Note we are not fitting the testing data into the CountVectorizer()\n",
        "testing_data = count_vector.transform(X_test.values.astype('U'))\n",
        "\n",
        "\n",
        "#x = v.fit_transform(df['Review'].values.astype('U'))  ## Even astype(str) would work\n"
      ],
      "execution_count": null,
      "outputs": []
    },
    {
      "cell_type": "code",
      "metadata": {
        "id": "jUWg_e8Q6JbZ",
        "colab_type": "code",
        "colab": {}
      },
      "source": [
        "from sklearn.naive_bayes import MultinomialNB\n",
        "naive_bayes = MultinomialNB()"
      ],
      "execution_count": null,
      "outputs": []
    },
    {
      "cell_type": "code",
      "metadata": {
        "id": "gggb4Pj99QlG",
        "colab_type": "code",
        "colab": {
          "base_uri": "https://localhost:8080/",
          "height": 34
        },
        "outputId": "23b23aad-e277-4c92-cb22-cc511d69f94d"
      },
      "source": [
        "\n",
        "naive_bayes.fit(training_data,y_train)"
      ],
      "execution_count": null,
      "outputs": [
        {
          "output_type": "execute_result",
          "data": {
            "text/plain": [
              "MultinomialNB(alpha=1.0, class_prior=None, fit_prior=True)"
            ]
          },
          "metadata": {
            "tags": []
          },
          "execution_count": 18
        }
      ]
    },
    {
      "cell_type": "code",
      "metadata": {
        "id": "tdQvjr0jMGW2",
        "colab_type": "code",
        "colab": {}
      },
      "source": [
        ""
      ],
      "execution_count": null,
      "outputs": []
    },
    {
      "cell_type": "code",
      "metadata": {
        "id": "rZlASP8MBVsO",
        "colab_type": "code",
        "colab": {
          "base_uri": "https://localhost:8080/",
          "height": 34
        },
        "outputId": "924d80c3-8ead-4079-967b-5ac1747152ef"
      },
      "source": [
        "predictions = naive_bayes.predict(testing_data)\n",
        "\n",
        "print(predictions)"
      ],
      "execution_count": null,
      "outputs": [
        {
          "output_type": "stream",
          "text": [
            "[0 6 4 ... 2 9 6]\n"
          ],
          "name": "stdout"
        }
      ]
    },
    {
      "cell_type": "code",
      "metadata": {
        "id": "ggxsAKVTr4ls",
        "colab_type": "code",
        "colab": {}
      },
      "source": [
        "from sklearn.metrics import accuracy_score, precision_score, recall_score, f1_score\n"
      ],
      "execution_count": null,
      "outputs": []
    },
    {
      "cell_type": "code",
      "metadata": {
        "id": "nQDr-Vz5BJ2f",
        "colab_type": "code",
        "colab": {
          "base_uri": "https://localhost:8080/",
          "height": 138
        },
        "outputId": "525ce713-be1f-44e2-84bf-fd709ee0d106"
      },
      "source": [
        "'''\n",
        "Solution\n",
        "'''\n",
        "print('Accuracy score: ', format(accuracy_score(predictions,y_test)*100 ))\n",
        "print('Precision score: ', format(precision_score(predictions,y_test,pos_label='positive',average='micro')))\n",
        "print('Recall score: ', format(recall_score(predictions,y_test,pos_label='positive',average='micro')))\n",
        "print('F1 score: ', format(f1_score(predictions,y_test,pos_label='positive',average='micro')))"
      ],
      "execution_count": null,
      "outputs": [
        {
          "output_type": "stream",
          "text": [
            "Accuracy score:  96.62345975356057\n",
            "Precision score:  0.9662345975356057\n",
            "Recall score:  0.9662345975356057\n",
            "F1 score:  0.9662345975356057\n"
          ],
          "name": "stdout"
        },
        {
          "output_type": "stream",
          "text": [
            "/usr/local/lib/python3.6/dist-packages/sklearn/metrics/_classification.py:1321: UserWarning: Note that pos_label (set to 'positive') is ignored when average != 'binary' (got 'micro'). You may use labels=[pos_label] to specify a single positive class.\n",
            "  % (pos_label, average), UserWarning)\n"
          ],
          "name": "stderr"
        }
      ]
    },
    {
      "cell_type": "code",
      "metadata": {
        "id": "DbxXzbhh6Rcg",
        "colab_type": "code",
        "colab": {}
      },
      "source": [
        "from sklearn.linear_model import LogisticRegression\n",
        "clf = LogisticRegression(random_state=1)"
      ],
      "execution_count": null,
      "outputs": []
    },
    {
      "cell_type": "code",
      "metadata": {
        "id": "J62aHBppBPdl",
        "colab_type": "code",
        "colab": {}
      },
      "source": [
        "\n",
        "\n",
        "clf.fit(training_data, y_train)\n",
        "predictions = clf.predict(testing_data)\n"
      ],
      "execution_count": null,
      "outputs": []
    },
    {
      "cell_type": "code",
      "metadata": {
        "id": "tRX9wD4pZpZm",
        "colab_type": "code",
        "colab": {
          "base_uri": "https://localhost:8080/",
          "height": 302
        },
        "outputId": "a4e4d621-b683-460e-bd12-39a10f5245ba"
      },
      "source": [
        "from sklearn.metrics import classification_report \n",
        "target_names  =['Politic', 'ads', 'eco', 'food', 'health', 'porno', 'religion','sports', 'tech', 'tv']\n",
        "print(classification_report(y_test, predictions, target_names=target_names) )\n",
        "\n",
        "\n",
        "#The support is the number of occurrences of each class in y_true.\n",
        "# as you can see  it's 639 which is nearly 620 *10 which is equall to the lenght of data \n",
        "\n",
        "\n",
        "#ntlk stop words only "
      ],
      "execution_count": null,
      "outputs": [
        {
          "output_type": "stream",
          "text": [
            "              precision    recall  f1-score   support\n",
            "\n",
            "     Politic       0.94      0.91      0.92       639\n",
            "         ads       0.97      0.99      0.98       625\n",
            "         eco       0.93      0.88      0.90       605\n",
            "        food       0.99      1.00      0.99       631\n",
            "      health       0.96      0.99      0.97       613\n",
            "       porno       0.99      0.99      0.99       632\n",
            "    religion       1.00      0.99      0.99       626\n",
            "      sports       0.98      0.98      0.98       597\n",
            "        tech       0.94      0.95      0.95       650\n",
            "          tv       0.97      0.98      0.97       631\n",
            "\n",
            "    accuracy                           0.97      6249\n",
            "   macro avg       0.97      0.97      0.97      6249\n",
            "weighted avg       0.97      0.97      0.97      6249\n",
            "\n"
          ],
          "name": "stdout"
        }
      ]
    },
    {
      "cell_type": "markdown",
      "metadata": {
        "id": "piHjdVSYfTmm",
        "colab_type": "text"
      },
      "source": [
        "logistic "
      ]
    },
    {
      "cell_type": "code",
      "metadata": {
        "id": "-3T4fNF9D7RM",
        "colab_type": "code",
        "colab": {
          "base_uri": "https://localhost:8080/",
          "height": 165
        },
        "outputId": "3d43bb9b-aa71-4344-9938-5deb4e7d228f"
      },
      "source": [
        "print('for LogisticRegression ')\n",
        "print('Accuracy score: ', format(accuracy_score(y_test, predictions)))\n",
        "print('Precision score: ', format(precision_score(y_test, predictions,pos_label='positive',average='micro')))\n",
        "print('Recall score: ', format(recall_score(y_test, predictions,pos_label='positive',average='micro')))\n",
        "print('F1 score: ', format(f1_score(y_test, predictions,pos_label='positive',average='micro')))"
      ],
      "execution_count": null,
      "outputs": [
        {
          "output_type": "stream",
          "text": [
            "for LogisticRegression \n",
            "Accuracy score:  0.9529524723955833\n",
            "Precision score:  0.9529524723955833\n",
            "Recall score:  0.9529524723955833\n",
            "F1 score:  0.9529524723955833\n"
          ],
          "name": "stdout"
        },
        {
          "output_type": "stream",
          "text": [
            "/usr/local/lib/python3.6/dist-packages/sklearn/metrics/_classification.py:1321: UserWarning: Note that pos_label (set to 'positive') is ignored when average != 'binary' (got 'micro'). You may use labels=[pos_label] to specify a single positive class.\n",
            "  % (pos_label, average), UserWarning)\n"
          ],
          "name": "stderr"
        }
      ]
    },
    {
      "cell_type": "markdown",
      "metadata": {
        "id": "MYS31elHfW7y",
        "colab_type": "text"
      },
      "source": [
        "saving model "
      ]
    },
    {
      "cell_type": "code",
      "metadata": {
        "id": "jjlD7XoRNf9m",
        "colab_type": "code",
        "colab": {
          "base_uri": "https://localhost:8080/",
          "height": 35
        },
        "outputId": "5709a871-8ac0-466b-9231-d50aecaf017f"
      },
      "source": [
        "cd '/content/drive/My Drive/Colab Notebooks/nlp/new facebook /'"
      ],
      "execution_count": null,
      "outputs": [
        {
          "output_type": "stream",
          "text": [
            "/content/drive/My Drive/Colab Notebooks/nlp/new facebook \n"
          ],
          "name": "stdout"
        }
      ]
    },
    {
      "cell_type": "code",
      "metadata": {
        "id": "QXdqlJepMSZr",
        "colab_type": "code",
        "colab": {}
      },
      "source": [
        "##save the model \n",
        "import pickle\n",
        "#model we want to save naive_bayes\n",
        "\n",
        "##   path = '/content/drive/My Drive/Colab Notebooks/nlp/new facebook /'\n",
        "\n",
        "filename = 'naive_bayes_96.sav'\n",
        "\n",
        "pickle.dump(naive_bayes, open(filename, 'wb'))\n",
        "\n",
        "pickle.dump(count_vector, open('count_vect', 'wb'))\n",
        "\n",
        "\n"
      ],
      "execution_count": null,
      "outputs": []
    },
    {
      "cell_type": "markdown",
      "metadata": {
        "id": "1yfPrdiwfZPS",
        "colab_type": "text"
      },
      "source": [
        "load the modeel "
      ]
    },
    {
      "cell_type": "code",
      "metadata": {
        "id": "4kVQQRSvNH2w",
        "colab_type": "code",
        "colab": {}
      },
      "source": [
        "loaded_model = pickle.load(open(filename, 'rb'))\n",
        "\n",
        "\n",
        "count_vect = pickle.load(open('count_vect', 'rb'))\n",
        "\n"
      ],
      "execution_count": null,
      "outputs": []
    },
    {
      "cell_type": "code",
      "metadata": {
        "id": "sDVoL5d2Pc1P",
        "colab_type": "code",
        "colab": {}
      },
      "source": [
        "mytest = pd.read_excel(\"my_test.xlsx\", \n",
        "                    header=None, names=['post'])\n",
        "fu= mytest['post']\n",
        "fu[0:5]\n",
        "fu =fu.values.astype('U')\n"
      ],
      "execution_count": null,
      "outputs": []
    },
    {
      "cell_type": "code",
      "metadata": {
        "id": "2smEMRHEU8xZ",
        "colab_type": "code",
        "colab": {}
      },
      "source": [
        "z = count_vect.transform(fu.ravel())\n",
        "\n",
        "#testing_data = count_vector.transform(X_test.values.astype('U'))\n"
      ],
      "execution_count": null,
      "outputs": []
    },
    {
      "cell_type": "code",
      "metadata": {
        "id": "hyajovk4b2Ep",
        "colab_type": "code",
        "colab": {}
      },
      "source": [
        "print(z)"
      ],
      "execution_count": null,
      "outputs": []
    },
    {
      "cell_type": "code",
      "metadata": {
        "id": "i7-Of_-9OJhp",
        "colab_type": "code",
        "colab": {
          "base_uri": "https://localhost:8080/",
          "height": 72
        },
        "outputId": "0e19e9ed-a6c8-4c5d-de47-e70800e54c8e"
      },
      "source": [
        "\n",
        "# remind \n",
        "# count_vector.fit_transform(X_train.values.astype('U')) \n",
        "\n",
        "result = loaded_model.predict(z)\n",
        "\n",
        "\n",
        "\n",
        "result\n"
      ],
      "execution_count": null,
      "outputs": [
        {
          "output_type": "execute_result",
          "data": {
            "text/plain": [
              "array([4, 4, 2, 2, 2, 4, 2, 2, 2, 4, 4, 4, 2, 2, 2, 2, 2, 9, 7, 7, 2, 2,\n",
              "       2, 2, 2, 2, 4, 4, 4, 2, 4, 4, 4, 4, 4, 4, 4, 4, 7, 7, 5, 5, 5, 6,\n",
              "       2, 1, 1, 1])"
            ]
          },
          "metadata": {
            "tags": []
          },
          "execution_count": 131
        }
      ]
    },
    {
      "cell_type": "code",
      "metadata": {
        "id": "LO4wZIPso6j4",
        "colab_type": "code",
        "colab": {
          "base_uri": "https://localhost:8080/",
          "height": 54
        },
        "outputId": "90fafade-cb16-4b82-ee97-c02bdcc2ef2b"
      },
      "source": [
        "my =labelencoder.inverse_transform([0,1,2,3,4,5,6,7,8,9])\n",
        "my\n",
        "\n",
        "\n",
        "'''\n",
        " # when you save model inverse isn't supported \n",
        " so we use maping \n",
        "\n",
        "dataset['predection'] = dataset.predection.map({0:'Politic',1:'ads',2:'eco',3:'food',4:'health',5:'porno',6:'religion',7:'sports',8:'tech',9:'tv'})\n",
        "\n",
        " #(['Politic', 'ads', 'eco', 'food', 'health', 'porno', 'religion',\n",
        "  #     'sports', 'tech', 'tv']\n",
        "\n",
        "#[0,1,2,3,4,5,6,7,8,9]\n",
        " \n",
        "'''"
      ],
      "execution_count": null,
      "outputs": [
        {
          "output_type": "execute_result",
          "data": {
            "text/plain": [
              "array(['Politic', 'ads', 'eco', 'food', 'health', 'porno', 'religion',\n",
              "       'sports', 'tech', 'tv'], dtype=object)"
            ]
          },
          "metadata": {
            "tags": []
          },
          "execution_count": 137
        }
      ]
    },
    {
      "cell_type": "code",
      "metadata": {
        "id": "u55NVZUQf77o",
        "colab_type": "code",
        "colab": {
          "base_uri": "https://localhost:8080/",
          "height": 145
        },
        "outputId": "a76df5f2-a220-4ade-ab5a-f002d4deb5a6"
      },
      "source": [
        "result=labelencoder.inverse_transform(result)\n",
        "result"
      ],
      "execution_count": null,
      "outputs": [
        {
          "output_type": "execute_result",
          "data": {
            "text/plain": [
              "array(['health', 'health', 'eco', 'eco', 'eco', 'health', 'eco', 'eco',\n",
              "       'eco', 'health', 'health', 'health', 'eco', 'eco', 'eco', 'eco',\n",
              "       'eco', 'tv', 'sports', 'sports', 'eco', 'eco', 'eco', 'eco', 'eco',\n",
              "       'eco', 'health', 'health', 'health', 'eco', 'health', 'health',\n",
              "       'health', 'health', 'health', 'health', 'health', 'health',\n",
              "       'sports', 'sports', 'porno', 'porno', 'porno', 'religion', 'eco',\n",
              "       'ads', 'ads', 'ads'], dtype=object)"
            ]
          },
          "metadata": {
            "tags": []
          },
          "execution_count": 132
        }
      ]
    },
    {
      "cell_type": "code",
      "metadata": {
        "id": "VznLRG3agUpr",
        "colab_type": "code",
        "colab": {
          "base_uri": "https://localhost:8080/",
          "height": 908
        },
        "outputId": "93c5b82c-114a-4775-a535-a86c4ab83cd7"
      },
      "source": [
        "dataset = pd.DataFrame({'post': fu, 'predection': result})\n",
        "\n",
        "from IPython.display import display # Allows the use of display() for DataFrames\n",
        "\n",
        "display(dataset) \n"
      ],
      "execution_count": null,
      "outputs": [
        {
          "output_type": "stream",
          "text": [
            "                                                 post predection\n",
            "0   - أمراض الجهاز العصبي وإصاباته : مثل الشلل بجم...     health\n",
            "1      تقع الغدة الكظرية في كل جانب في أعلى الكلية...     health\n",
            "2     السعودية تعلن اليوم عن الموازنة العامة الجدي...        eco\n",
            "3    «العملة الرقمية» ثورة جديدة في القطاع المصرفي...        eco\n",
            "4    «أوبي وورلدفون» : سنبدأ الاستثمار المباشر في ...        eco\n",
            "5                        احذر من التدخين داخل المنزل!     health\n",
            "6    الانتهاء من  مشروعا لاستثمارات عالمية في قطاع...        eco\n",
            "7    الحكومة اليمنية تتخذ كافة الإجراءات لضمان تدف...        eco\n",
            "8    الريال السعودي يرتفع أمام عملات ويستقر مقابل ...        eco\n",
            "9                                     الغدة الدرقية:      health\n",
            "10   الغدة الصنوبرية: الغدة الصنوبرية هي واحدة من ...     health\n",
            "11                                     الغدة الكظرية:     health\n",
            "12   انخفاض التبادل التجاري الخارجي لدول الخليج % ...        eco\n",
            "13   انخفاض مبيعات الأراضي السكنية لأدنى مستوى أسب...        eco\n",
            "14          ألف شكوى في القطاع المصرفي السعودي خلال          eco\n",
            "15   ألف طلب تأشيرة من السعوديين للسفر إلى بريطاني...        eco\n",
            "16      تحويلات الأجانب في  السعودية تتراجع خلال عام         eco\n",
            "17   تصبح واحده من أهم مطربات بريطانيا بالرغم من أ...         tv\n",
            "18   جووووووووووول التعادل لفريق أسوان عن طريق معا...     sports\n",
            "19   جووووووووووووووول التعادل للنصر للتعدين عن طر...     sports\n",
            "20             خصخصة مطاحن الدقيق في الربع الأول من          eco\n",
            "21   رئيس الوزراء المصري: النمو الاقتصادي .% في - ...        eco\n",
            "22   سابتكو : شبكة حافلات الرياض ستبدأ العمل في ال...        eco\n",
            "23           سعر الذهب يتراجع ليسجل أدنى مستوى له في         eco\n",
            "24      شركات نفط عالمية تتوقع توازن العرض والطلب في         eco\n",
            "25              صادرات تركيا بلغت نحو مليار دولار في         eco\n",
            "26   في أيام الدراسة، تزداد فرصة اصابة الاطفال بال...     health\n",
            "27   في عالم مثالي، لا تحتاج البشرة للتنظيف حيث أن...     health\n",
            "28   ما هي أقصى مدة مسموحة لتأخر الدورة الشهرية عن...     health\n",
            "29          مصر تستهدف إنتاج غاز بنحو مليارات قدم في         eco\n",
            "30   مصطلح طبي ومعناه:  ويعني انفصام الشخصية هو اض...     health\n",
            "31   من الحالات التي يحتاج المريض فيها العلاج الطب...     health\n",
            "32   هل أنت من الذين يأكلون نفس الكميات من الطعام ...     health\n",
            "33                   هل تخشى الإصابة بالرشح و الزكام؟     health\n",
            "34   هل تعلم أن اسم البنكرياس في اللغة العربية هو ...     health\n",
            "35   هل تعلم أن نوبات  الشقيقة أو الصداع النصفي تز...     health\n",
            "36             هل تؤثر منتجات الحليب على تكون الحصى؟      health\n",
            "37   هي كلمة تصف مجموعة من الأعراض التّي تشمل فقدا...     health\n",
            "38  حاولت الاندماج مع الفريق، وبالرغم من كوهنهم لا...     sports\n",
            "39  غياب ميسي كان مفتاح فوز بوليفيا على الأرجنتين،...     sports\n",
            "40                       ماتيجي تمص شويه يلا يا معرص       porno\n",
            "41     جري ايه يا ولاد المره المتناكه مش هنبطل منيكه       porno\n",
            "42                   انا عاوز اصلى الفجر قبل ما انام       porno\n",
            "43     صلاه الفجر ياولاد المتناكه صلوا قبل ما تناموا    religion\n",
            "44                      الجنيه نزل قصاد الدولار جامد         eco\n",
            "45                         مطلوب سكيرتيره بمرتب مجزي         ads\n",
            "46  مطلوب سيكرتيره حسنه المظهر سيئه السمعه للعمل ب...        ads\n",
            "47  الموبيلات غليت فشخ الايفون الجديد معدى ال 25 الف         ads\n"
          ],
          "name": "stdout"
        }
      ]
    },
    {
      "cell_type": "code",
      "metadata": {
        "id": "SDhxBInPeqJB",
        "colab_type": "code",
        "colab": {}
      },
      "source": [
        ""
      ],
      "execution_count": null,
      "outputs": []
    }
  ]
}